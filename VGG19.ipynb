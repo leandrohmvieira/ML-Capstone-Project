{
  "nbformat": 4,
  "nbformat_minor": 0,
  "metadata": {
    "colab": {
      "name": "Transfer learning DF.ipynb",
      "version": "0.3.2",
      "provenance": [],
      "collapsed_sections": []
    },
    "kernelspec": {
      "name": "python3",
      "display_name": "Python 3"
    },
    "accelerator": "GPU"
  },
  "cells": [
    {
      "cell_type": "markdown",
      "metadata": {
        "id": "view-in-github",
        "colab_type": "text"
      },
      "source": [
        "[View in Colaboratory](https://colab.research.google.com/github/leandrohmvieira/ML-Capstone-Project/blob/master/Transfer_learning_DF.ipynb)"
      ]
    },
    {
      "metadata": {
        "id": "1bbCx2yT8wAv",
        "colab_type": "code",
        "colab": {
          "base_uri": "https://localhost:8080/",
          "height": 34
        },
        "outputId": "66f8fac8-92d5-413f-fd0e-f31cccd02819"
      },
      "cell_type": "code",
      "source": [
        "#essa célula existe para eu checar se o Google Colab não deletou meus arquivos\n",
        "import glob\n",
        "glob.glob('/content/*')"
      ],
      "execution_count": 1,
      "outputs": [
        {
          "output_type": "execute_result",
          "data": {
            "text/plain": [
              "['/content/datalab']"
            ]
          },
          "metadata": {
            "tags": []
          },
          "execution_count": 1
        }
      ]
    },
    {
      "metadata": {
        "id": "0aDW0-dk6imA",
        "colab_type": "text"
      },
      "cell_type": "markdown",
      "source": [
        "# Aplicação de redes convolutivas no dataset deep fashion\n",
        "\n",
        "Será utilizado a técnica de transfer learning neste exemplo"
      ]
    },
    {
      "metadata": {
        "id": "zhodBok_vEP2",
        "colab_type": "text"
      },
      "cell_type": "markdown",
      "source": [
        "# Deep fashion dataset\n",
        "\n",
        "O dataset utilizado para o treinamento é o Deep Fashion"
      ]
    },
    {
      "metadata": {
        "id": "Q8B4fJLbjtHJ",
        "colab_type": "code",
        "colab": {}
      },
      "cell_type": "code",
      "source": [
        "#caso necessário, todos os arquivos referentes ao dataset Deep Fashion estão localizados abaixo\n",
        "#wget https://www.dropbox.com/sh/ryl8efwispnjw21/AABpzYsttt7DIQmb2PckgbPXa/Anno/list_attr_cloth.txt?dl=0 -O fashion_data/Anno/list_attr_cloth.txt\n",
        "#wget https://www.dropbox.com/sh/ryl8efwispnjw21/AADYszB-Pv6mgwtiPEtQkHTva/Anno/list_attr_img.txt?dl=0 -O fashion_data/Anno/list_attr_img.txt\n",
        "#wget https://www.dropbox.com/sh/ryl8efwispnjw21/AADr1hf3nsOZEV3sOTZ1-m98a/Anno/list_bbox.txt?dl=0 -O fashion_data/Anno/list_bbox.txt\n",
        "#wget https://www.dropbox.com/sh/ryl8efwispnjw21/AACiFqyjpb21GyVwLNBATFQXa/Anno/list_category_cloth.txt?dl=0 -O fashion_data/Anno/list_category_cloth.txt\n",
        "#wget https://www.dropbox.com/sh/ryl8efwispnjw21/AAD3Mm6b2e9vkVdb35OfCA3fa/Anno/list_category_img.txt?dl=0 -O fashion_data/Anno/list_category_img.txt\n",
        "#wget https://www.dropbox.com/sh/ryl8efwispnjw21/AAARD4rdUT8oBQsjl4HuYAXha/Anno/list_landmarks.txt?dl=0 -O fashion_data/Anno/list_landmarks.txt\n",
        "#wget https://www.dropbox.com/sh/ryl8efwispnjw21/AACTJyCl9bprY90Z3frUZ-H-a/Eval/list_eval_partition.txt?dl=0 -O fashion_data/Eval/list_eval_partition.txt\n",
        "#wget https://www.dropbox.com/sh/ryl8efwispnjw21/AABKePZxbIrUHD0RjFLGA9q1a/README.txt?dl=0 -O fashion_data/README.txt\n",
        "#wget -c https://www.dropbox.com/sh/ryl8efwispnjw21/AACpZU-UKs_snxFH5Bp8RwOwa/Img/img.zip?dl=0 -O fashion_data/Img/img.zip"
      ],
      "execution_count": 0,
      "outputs": []
    },
    {
      "metadata": {
        "id": "NApiYH56sYYv",
        "colab_type": "code",
        "colab": {
          "base_uri": "https://localhost:8080/",
          "height": 1154
        },
        "outputId": "ca47eb45-b6a5-43c1-d652-5aec1331a0bf"
      },
      "cell_type": "code",
      "source": [
        "!mkdir -p 'downloads'\n",
        "\n",
        "#list_category_cloth contém 50 classes de roupas a serem classificadas\n",
        "!wget https://www.dropbox.com/sh/ryl8efwispnjw21/AACiFqyjpb21GyVwLNBATFQXa/Anno/list_category_cloth.txt?dl=0 -O downloads/list_category_cloth.txt\n",
        "\n",
        "#list_eval_partition descreve quais imagens devem ser utilizadas como treinamento, validação e teste\n",
        "!wget https://www.dropbox.com/sh/ryl8efwispnjw21/AACTJyCl9bprY90Z3frUZ-H-a/Eval/list_eval_partition.txt?dl=0 -O downloads/list_eval_partition.txt\n",
        "  \n",
        "#list_category_img contém as marcações das 50 classes em cada imagem do conjunto\n",
        "!wget https://www.dropbox.com/sh/ryl8efwispnjw21/AAD3Mm6b2e9vkVdb35OfCA3fa/Anno/list_category_img.txt?dl=0 -O downloads/list_category_img.txt\n",
        "\n",
        "#img.zip contém as imagens em si\n",
        "!wget -c https://www.dropbox.com/sh/ryl8efwispnjw21/AACpZU-UKs_snxFH5Bp8RwOwa/Img/img.zip?dl=0 -O downloads/img.zip\n"
      ],
      "execution_count": 2,
      "outputs": [
        {
          "output_type": "stream",
          "text": [
            "--2018-05-06 23:43:10--  https://www.dropbox.com/sh/ryl8efwispnjw21/AACiFqyjpb21GyVwLNBATFQXa/Anno/list_category_cloth.txt?dl=0\n",
            "Resolving www.dropbox.com (www.dropbox.com)... 162.125.9.1, 2620:100:601b:1::a27d:801\n",
            "Connecting to www.dropbox.com (www.dropbox.com)|162.125.9.1|:443... connected.\n",
            "HTTP request sent, awaiting response... 302 Found\n",
            "Location: https://dl.dropboxusercontent.com/content_link/2SH3Daivkee2rK2YhGEj95R0ySuYH7XMeAxHLxUYc4qI5aW14kPtw8wU4mS7cCOl/file [following]\n",
            "--2018-05-06 23:43:11--  https://dl.dropboxusercontent.com/content_link/2SH3Daivkee2rK2YhGEj95R0ySuYH7XMeAxHLxUYc4qI5aW14kPtw8wU4mS7cCOl/file\n",
            "Resolving dl.dropboxusercontent.com (dl.dropboxusercontent.com)... 162.125.81.6, 2620:100:601f:6::a27d:906\n",
            "Connecting to dl.dropboxusercontent.com (dl.dropboxusercontent.com)|162.125.81.6|:443... connected.\n",
            "HTTP request sent, awaiting response... 200 OK\n",
            "Length: 882 [text/plain]\n",
            "Saving to: ‘downloads/list_category_cloth.txt’\n",
            "\n",
            "downloads/list_cate 100%[===================>]     882  --.-KB/s    in 0s      \n",
            "\n",
            "2018-05-06 23:43:12 (69.8 MB/s) - ‘downloads/list_category_cloth.txt’ saved [882/882]\n",
            "\n",
            "--2018-05-06 23:43:14--  https://www.dropbox.com/sh/ryl8efwispnjw21/AACTJyCl9bprY90Z3frUZ-H-a/Eval/list_eval_partition.txt?dl=0\n",
            "Resolving www.dropbox.com (www.dropbox.com)... 162.125.9.1, 2620:100:601b:1::a27d:801\n",
            "Connecting to www.dropbox.com (www.dropbox.com)|162.125.9.1|:443... connected.\n",
            "HTTP request sent, awaiting response... 302 Found\n",
            "Location: https://dl.dropboxusercontent.com/content_link/T2xl0R6qnvC3wy6IT4UwSalf32JmOTS9byBgg3VIQoNo9mwxqNJJYPsvlDNvbVse/file [following]\n",
            "--2018-05-06 23:43:14--  https://dl.dropboxusercontent.com/content_link/T2xl0R6qnvC3wy6IT4UwSalf32JmOTS9byBgg3VIQoNo9mwxqNJJYPsvlDNvbVse/file\n",
            "Resolving dl.dropboxusercontent.com (dl.dropboxusercontent.com)... 162.125.81.6, 2620:100:601f:6::a27d:906\n",
            "Connecting to dl.dropboxusercontent.com (dl.dropboxusercontent.com)|162.125.81.6|:443... connected.\n",
            "HTTP request sent, awaiting response... 200 OK\n",
            "Length: 22150149 (21M) [text/plain]\n",
            "Saving to: ‘downloads/list_eval_partition.txt’\n",
            "\n",
            "downloads/list_eval 100%[===================>]  21.12M  6.58MB/s    in 3.2s    \n",
            "\n",
            "2018-05-06 23:43:19 (6.58 MB/s) - ‘downloads/list_eval_partition.txt’ saved [22150149/22150149]\n",
            "\n",
            "--2018-05-06 23:43:20--  https://www.dropbox.com/sh/ryl8efwispnjw21/AAD3Mm6b2e9vkVdb35OfCA3fa/Anno/list_category_img.txt?dl=0\n",
            "Resolving www.dropbox.com (www.dropbox.com)... 162.125.9.1, 2620:100:601b:1::a27d:801\n",
            "Connecting to www.dropbox.com (www.dropbox.com)|162.125.9.1|:443... connected.\n",
            "HTTP request sent, awaiting response... 302 Found\n",
            "Location: https://dl.dropboxusercontent.com/content_link/RhqxwqqgT4040pU3QBCO0lCqvxayM9hZnjFiKrwAvtV16QOBh00dJLe61Sr00SEV/file [following]\n",
            "--2018-05-06 23:43:21--  https://dl.dropboxusercontent.com/content_link/RhqxwqqgT4040pU3QBCO0lCqvxayM9hZnjFiKrwAvtV16QOBh00dJLe61Sr00SEV/file\n",
            "Resolving dl.dropboxusercontent.com (dl.dropboxusercontent.com)... 162.125.81.6, 2620:100:601f:6::a27d:906\n",
            "Connecting to dl.dropboxusercontent.com (dl.dropboxusercontent.com)|162.125.81.6|:443... connected.\n",
            "HTTP request sent, awaiting response... 200 OK\n",
            "Length: 21355261 (20M) [text/plain]\n",
            "Saving to: ‘downloads/list_category_img.txt’\n",
            "\n",
            " downloads/list_cat  15%[==>                 ]   3.15M  1.56MB/s               "
          ],
          "name": "stdout"
        },
        {
          "output_type": "stream",
          "text": [
            "downloads/list_cate 100%[===================>]  20.37M  6.18MB/s    in 3.6s    \n",
            "\n",
            "2018-05-06 23:43:26 (5.70 MB/s) - ‘downloads/list_category_img.txt’ saved [21355261/21355261]\n",
            "\n",
            "--2018-05-06 23:43:27--  https://www.dropbox.com/sh/ryl8efwispnjw21/AACpZU-UKs_snxFH5Bp8RwOwa/Img/img.zip?dl=0\n",
            "Resolving www.dropbox.com (www.dropbox.com)... 162.125.9.1, 2620:100:601b:1::a27d:801\n",
            "Connecting to www.dropbox.com (www.dropbox.com)|162.125.9.1|:443... connected.\n",
            "HTTP request sent, awaiting response... 302 Found\n",
            "Location: https://dl.dropboxusercontent.com/content_link/DghN0C2sR8Vnmp3KGEjpmwSRsLqvhZQUlMxWvLMlTMsdoejCddgOWbpjvrNqoBm6/file [following]\n",
            "--2018-05-06 23:43:27--  https://dl.dropboxusercontent.com/content_link/DghN0C2sR8Vnmp3KGEjpmwSRsLqvhZQUlMxWvLMlTMsdoejCddgOWbpjvrNqoBm6/file\n",
            "Resolving dl.dropboxusercontent.com (dl.dropboxusercontent.com)... 162.125.81.6, 2620:100:601f:6::a27d:906\n",
            "Connecting to dl.dropboxusercontent.com (dl.dropboxusercontent.com)|162.125.81.6|:443... connected.\n",
            "HTTP request sent, awaiting response... 200 OK\n",
            "Length: 2681199362 (2.5G) [application/zip]\n",
            "Saving to: ‘downloads/img.zip’\n",
            "\n",
            "downloads/img.zip     6%[>                   ] 172.79M  12.4MB/s    eta 3m 42s "
          ],
          "name": "stdout"
        },
        {
          "output_type": "stream",
          "text": [
            "downloads/img.zip   100%[===================>]   2.50G  12.1MB/s    in 3m 36s  \n",
            "\n",
            "2018-05-06 23:47:05 (11.9 MB/s) - ‘downloads/img.zip’ saved [2681199362/2681199362]\n",
            "\n"
          ],
          "name": "stdout"
        }
      ]
    },
    {
      "metadata": {
        "id": "ei_KA2pzwMev",
        "colab_type": "code",
        "colab": {}
      },
      "cell_type": "code",
      "source": [
        "#dezipando as imagens, esta etapa pode dar erro\n",
        "!unzip -n downloads/img.zip -d downloads/"
      ],
      "execution_count": 0,
      "outputs": []
    },
    {
      "metadata": {
        "id": "K4rEaTU9255A",
        "colab_type": "code",
        "colab": {}
      },
      "cell_type": "code",
      "source": [
        "!rm -rf /content/train/\n",
        "!rm -rf /content/val/\n",
        "!rm -rf /content/test/"
      ],
      "execution_count": 0,
      "outputs": []
    },
    {
      "metadata": {
        "id": "CBYhcyav1N47",
        "colab_type": "code",
        "colab": {}
      },
      "cell_type": "code",
      "source": [
        "#separa as imagens entre treino, validação e teste\n",
        "\n",
        "from shutil import copy\n",
        "import collections\n",
        "import os\n",
        "\n",
        "file_dir = '/content/downloads/'\n",
        "steps = ['train', 'val', 'test']\n",
        "categories = dict()\n",
        "img_params = collections.defaultdict(list)\n",
        "\n",
        "\n",
        "for i in steps:\n",
        "  os.makedirs(i,exist_ok=True)\n",
        "  \n",
        "#monta um dict com as categorias a serem classificadas\n",
        "with open('downloads/list_category_cloth.txt') as f:\n",
        "  next(f)\n",
        "  next(f)\n",
        "  lineno = 1\n",
        "  for line in f:\n",
        "    arglist = ' '.join(line.split()).split(' ')\n",
        "    categories.update({lineno:arglist[0]})\n",
        "    lineno +=1\n",
        "\n",
        "#cria os diretórios de cada categoria nos diretórios de cada etapa\n",
        "for step in steps:\n",
        "  for cat in categories.keys():\n",
        "    os.makedirs(step+\"/\"+str(cat),exist_ok=True)\n",
        "    \n",
        "    \n",
        "#monta um dict que indica para cada arquivo, a qual etapa ele pertence e qual sua label correspondente\n",
        "with open('downloads/list_eval_partition.txt') as f:\n",
        "  next(f)\n",
        "  next(f)\n",
        "  for line in f:\n",
        "    arglist = ' '.join(line.split()).split(' ')\n",
        "    img_params[arglist[0]].append(arglist[1])\n",
        "    \n",
        "with open('downloads/list_category_img.txt') as g:\n",
        "      next(g)\n",
        "      next(g)\n",
        "      for line2 in g:\n",
        "        arglist2 = ' '.join(line2.split()).split(' ')\n",
        "        img_params[arglist2[0]].append(arglist2[1])\n",
        "\n",
        "#com os parametros necessários, copia os arquivos para seus respectivos lugares\n",
        "# ESSA PORRA AQUI NÃO TÁ COPIANDO O CARALHO DAS IMAGENS\n",
        "for image in img_params.keys():\n",
        "  params = img_params.get(image)\n",
        "  #copy2(file_dir+image,\"/content/\"+params[0]+\"/\"+str(params[1]))\n",
        "  source = file_dir+image\n",
        "  dest = \"/content/\"+params[0]+'/'+str(params[1])+'/'+image.split('/')[1]+image.split('/')[2]\n",
        "  copy(source,dest)\n",
        "  #print(\"copiando {} para {}\".format(source,dest))"
      ],
      "execution_count": 0,
      "outputs": []
    },
    {
      "metadata": {
        "id": "JbZBjr_md-rl",
        "colab_type": "code",
        "colab": {
          "base_uri": "https://localhost:8080/",
          "height": 85
        },
        "outputId": "a1741154-4302-493f-f2f0-5d8c9318119c"
      },
      "cell_type": "code",
      "source": [
        "total_files = len(glob.glob('/content/downloads/img/*/*.jpg'))\n",
        "total_train = len(glob.glob('/content/train/*/*.jpg'))\n",
        "total_val = len(glob.glob('/content/val/*/*.jpg'))\n",
        "total_test = len(glob.glob('/content/test/*/*.jpg'))\n",
        " \n",
        "print('total de arquivos do dataset:{}'.format(total_files))\n",
        "print('total de arquivos de treino:{}'.format(total_train))\n",
        "print('total de arquivos de validacao:{}'.format(total_val))\n",
        "print('total de arquivos de teste:{}'.format(total_test))\n",
        "\n",
        "  "
      ],
      "execution_count": 5,
      "outputs": [
        {
          "output_type": "stream",
          "text": [
            "total de arquivos do dataset:289229\n",
            "total de arquivos de treino:209222\n",
            "total de arquivos de validacao:40000\n",
            "total de arquivos de teste:40000\n"
          ],
          "name": "stdout"
        }
      ]
    },
    {
      "metadata": {
        "id": "e5_3KDOWY8c-",
        "colab_type": "text"
      },
      "cell_type": "markdown",
      "source": [
        "# Preprocessing\n",
        "\n",
        "Agora que os arquivos estão dispostos nas pastas , iremos montar as entradas para o treinamento da rede neural. O Keras não aceita imagens com resoluções variadas, para contornar estas situações,como primeira medida irei redimensionar todas as imagens para o tamanho da maior imagem do conjunto."
      ]
    },
    {
      "metadata": {
        "id": "MyRsOl45UueZ",
        "colab_type": "code",
        "colab": {
          "base_uri": "https://localhost:8080/",
          "height": 34
        },
        "outputId": "f0c196fe-fc7f-4ae0-92d7-b4b20d4e90a6"
      },
      "cell_type": "code",
      "source": [
        "#usarei a classe ImageDataGenerator para corrigir as diferenças de resolução entre as imagens\n",
        "\n",
        "from keras.preprocessing.image import ImageDataGenerator\n",
        "\n",
        "train_datagen = ImageDataGenerator(rescale=1./255)\n",
        "val_datagen = ImageDataGenerator(rescale=1./255)\n",
        "test_datagen = ImageDataGenerator(rescale=1./255)"
      ],
      "execution_count": 5,
      "outputs": [
        {
          "output_type": "stream",
          "text": [
            "Using TensorFlow backend.\n"
          ],
          "name": "stderr"
        }
      ]
    },
    {
      "metadata": {
        "id": "lYdK_eOWahPI",
        "colab_type": "code",
        "colab": {
          "base_uri": "https://localhost:8080/",
          "height": 70
        },
        "outputId": "bbb42f43-42fd-4c1f-9bbf-66c93d5e6ef6"
      },
      "cell_type": "code",
      "source": [
        "bat_size = 100\n",
        "tgt_size = (300,200)\n",
        "\n",
        "#A partir dos geradores é possível chamar a função flow_from_directory, que cria o objeto de dados a partir de um path\n",
        "\n",
        "train_generator = train_datagen.flow_from_directory(\n",
        "    '/content/train/',\n",
        "    target_size= tgt_size,\n",
        "    batch_size= bat_size,\n",
        "    class_mode='categorical'\n",
        ")\n",
        "\n",
        "val_generator = val_datagen.flow_from_directory(\n",
        "    '/content/val/',\n",
        "    target_size= tgt_size,\n",
        "    batch_size=bat_size,\n",
        "    class_mode='categorical'\n",
        ")\n",
        "\n",
        "test_generator = test_datagen.flow_from_directory(\n",
        "    '/content/test/',\n",
        "    target_size = tgt_size,\n",
        "    class_mode = 'categorical'\n",
        "    \n",
        "    )"
      ],
      "execution_count": 6,
      "outputs": [
        {
          "output_type": "stream",
          "text": [
            "Found 209222 images belonging to 50 classes.\n",
            "Found 40000 images belonging to 50 classes.\n",
            "Found 40000 images belonging to 50 classes.\n"
          ],
          "name": "stdout"
        }
      ]
    },
    {
      "metadata": {
        "id": "SQHGtbLuXDpR",
        "colab_type": "text"
      },
      "cell_type": "markdown",
      "source": [
        "# Definindo a arquitetura da Rede Neural\n",
        "\n",
        "A arquitetura inicial consiste em treinar uma rede convolucional com 3 camadas de convolucao, separadas por camadas de max pooling, encerrando em 2 camadas densas"
      ]
    },
    {
      "metadata": {
        "id": "EMqcmkgjPYm1",
        "colab_type": "code",
        "colab": {}
      },
      "cell_type": "code",
      "source": [
        "#importa o VGG19 para testar uma rede de transferência\n",
        "from keras.applications import VGG19\n",
        " \n",
        "model = VGG19(weights = \"imagenet\", include_top=False, input_shape = (300, 200, 3))\n",
        "\n",
        "model.summary()"
      ],
      "execution_count": 0,
      "outputs": []
    },
    {
      "metadata": {
        "id": "KbSnYKyQSNfy",
        "colab_type": "code",
        "colab": {}
      },
      "cell_type": "code",
      "source": [
        "#congela as camadas iniciais da rede, para treinar apenas as camadas de alto nivel\n",
        "\n",
        "for layer in model.layers[:7]:\n",
        "  layer.trainable = False  "
      ],
      "execution_count": 0,
      "outputs": []
    },
    {
      "metadata": {
        "id": "jVHuPLCOT4oJ",
        "colab_type": "code",
        "colab": {}
      },
      "cell_type": "code",
      "source": [
        "from keras.models import Sequential, Model \n",
        "from keras.layers import Flatten, Dense, Dropout\n",
        "x = model.output\n",
        "x = Flatten()(x)\n",
        "x = Dense(1024, activation=\"relu\")(x)\n",
        "x = Dropout(0.5)(x)\n",
        "x = Dense(1024, activation=\"relu\")(x)\n",
        "predictions = Dense(50, activation=\"softmax\")(x)"
      ],
      "execution_count": 0,
      "outputs": []
    },
    {
      "metadata": {
        "id": "pBZhtE0wQAxx",
        "colab_type": "code",
        "colab": {
          "base_uri": "https://localhost:8080/",
          "height": 52
        },
        "outputId": "9294a4fc-65f8-4a08-e8fb-7027491141c3"
      },
      "cell_type": "code",
      "source": [
        "# creating the final model \n",
        "model_final = Model(input = model.input, output = predictions)"
      ],
      "execution_count": 10,
      "outputs": [
        {
          "output_type": "stream",
          "text": [
            "/usr/local/lib/python3.6/dist-packages/ipykernel_launcher.py:1: UserWarning: Update your `Model` call to the Keras 2 API: `Model(inputs=Tensor(\"in..., outputs=Tensor(\"de...)`\n",
            "  \"\"\"Entry point for launching an IPython kernel.\n"
          ],
          "name": "stderr"
        }
      ]
    },
    {
      "metadata": {
        "id": "BaI7Uwi0RXKC",
        "colab_type": "code",
        "colab": {}
      },
      "cell_type": "code",
      "source": [
        "model_final.summary()"
      ],
      "execution_count": 0,
      "outputs": []
    },
    {
      "metadata": {
        "id": "mZyH8OylQBXT",
        "colab_type": "code",
        "colab": {}
      },
      "cell_type": "code",
      "source": [
        "# compile the model\n",
        "from keras import optimizers\n",
        "model_final.compile(loss = \"categorical_crossentropy\", optimizer = optimizers.SGD(lr=0.0001, momentum=0.9), metrics=[\"accuracy\"])"
      ],
      "execution_count": 0,
      "outputs": []
    },
    {
      "metadata": {
        "id": "hOYOhSRpR7d1",
        "colab_type": "code",
        "colab": {}
      },
      "cell_type": "code",
      "source": [
        ""
      ],
      "execution_count": 0,
      "outputs": []
    },
    {
      "metadata": {
        "id": "ZLBfYgilk5kv",
        "colab_type": "code",
        "colab": {}
      },
      "cell_type": "code",
      "source": [
        "#compila e treina o modelo\n",
        "\n",
        "model_final.compile(loss='categorical_crossentropy', optimizer='adam', \n",
        "                  metrics=['accuracy'])"
      ],
      "execution_count": 0,
      "outputs": []
    },
    {
      "metadata": {
        "id": "_QEkcnemlMIx",
        "colab_type": "code",
        "colab": {
          "base_uri": "https://localhost:8080/",
          "height": 52
        },
        "outputId": "4b35aad6-f7ea-4ab2-c5a9-5fa9bc48243f"
      },
      "cell_type": "code",
      "source": [
        "from keras.callbacks import ModelCheckpoint \n",
        "\n",
        "# train the model\n",
        "checkpointer = ModelCheckpoint(filepath='model.weights.best.hdf5', verbose=1, \n",
        "                               save_best_only=True)\n",
        "\n",
        "model_final.fit_generator(train_generator,validation_data=val_generator,epochs=1,callbacks=[checkpointer])"
      ],
      "execution_count": 0,
      "outputs": [
        {
          "output_type": "stream",
          "text": [
            "Epoch 1/1\n",
            " 552/2093 [======>.......................] - ETA: 1:13:51 - loss: 2.5586 - acc: 0.2961"
          ],
          "name": "stdout"
        }
      ]
    },
    {
      "metadata": {
        "id": "3gmb6neJgTo9",
        "colab_type": "code",
        "colab": {}
      },
      "cell_type": "code",
      "source": [
        "model.save('my_model.h5')"
      ],
      "execution_count": 0,
      "outputs": []
    },
    {
      "metadata": {
        "id": "ZJHFncfTFIDF",
        "colab_type": "code",
        "colab": {
          "base_uri": "https://localhost:8080/",
          "height": 51
        },
        "outputId": "9c762ec9-150b-4ebe-ffc7-9fc6a48111b4"
      },
      "cell_type": "code",
      "source": [
        "score = model.evaluate_generator(test_generator)\n",
        "print('\\n', 'Test accuracy:', score[1])"
      ],
      "execution_count": 0,
      "outputs": [
        {
          "output_type": "stream",
          "text": [
            "\n",
            " Test accuracy: 0.48765\n"
          ],
          "name": "stdout"
        }
      ]
    },
    {
      "metadata": {
        "id": "weqBW-AUL5ep",
        "colab_type": "code",
        "colab": {
          "base_uri": "https://localhost:8080/",
          "height": 136
        },
        "outputId": "07077459-8d9e-464e-fa61-5f3caa063548"
      },
      "cell_type": "code",
      "source": [
        "glob.glob('/content/*')"
      ],
      "execution_count": 0,
      "outputs": [
        {
          "output_type": "execute_result",
          "data": {
            "text/plain": [
              "['/content/datalab',\n",
              " '/content/val',\n",
              " '/content/train',\n",
              " '/content/model.weights.best.hdf5',\n",
              " '/content/my_model.h5',\n",
              " '/content/downloads',\n",
              " '/content/test']"
            ]
          },
          "metadata": {
            "tags": []
          },
          "execution_count": 22
        }
      ]
    },
    {
      "metadata": {
        "id": "sLG1jCI1iieR",
        "colab_type": "code",
        "colab": {}
      },
      "cell_type": "code",
      "source": [
        "#NAO FUNCIONA\n",
        "from google.colab import files\n",
        "\n",
        "files.download('/content/my_model.h5')"
      ],
      "execution_count": 0,
      "outputs": []
    },
    {
      "metadata": {
        "id": "1zFMQi6aQnVI",
        "colab_type": "text"
      },
      "cell_type": "markdown",
      "source": [
        "o Google Colab não permite realizar download direto de grandes estruturas de dados, então para contornar o problema, eu salvei os pesos da rede neural no meu repositório do Google Drive"
      ]
    },
    {
      "metadata": {
        "id": "5or5mXeQQBla",
        "colab_type": "code",
        "colab": {
          "base_uri": "https://localhost:8080/",
          "height": 34
        },
        "outputId": "c114a932-95fc-49a6-aedb-a7c82a0dd37e"
      },
      "cell_type": "code",
      "source": [
        "# Install the PyDrive wrapper & import libraries.\n",
        "# This only needs to be done once in a notebook.\n",
        "!pip install -U -q PyDrive\n",
        "from pydrive.auth import GoogleAuth\n",
        "from pydrive.drive import GoogleDrive\n",
        "from google.colab import auth\n",
        "from oauth2client.client import GoogleCredentials\n",
        "\n",
        "# Authenticate and create the PyDrive client.\n",
        "# This only needs to be done once in a notebook.\n",
        "auth.authenticate_user()\n",
        "gauth = GoogleAuth()\n",
        "gauth.credentials = GoogleCredentials.get_application_default()\n",
        "drive = GoogleDrive(gauth)\n",
        "\n",
        "# Create & upload a file.\n",
        "uploaded = drive.CreateFile({'title': 'my_model.h5'})\n",
        "uploaded.SetContentFile('/content/my_model.h5')\n",
        "uploaded.Upload()\n",
        "print('Uploaded file with ID {}'.format(uploaded.get('id')))"
      ],
      "execution_count": 0,
      "outputs": [
        {
          "output_type": "stream",
          "text": [
            "Uploaded file with ID 1YD2SH2xT0D4dMtI5kcnDWdT791x9YKbU\n"
          ],
          "name": "stdout"
        }
      ]
    }
  ]
}