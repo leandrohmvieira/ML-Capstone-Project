{
  "nbformat": 4,
  "nbformat_minor": 0,
  "metadata": {
    "colab": {
      "name": "Transfer learning DF.ipynb",
      "version": "0.3.2",
      "provenance": [],
      "collapsed_sections": []
    },
    "kernelspec": {
      "name": "python3",
      "display_name": "Python 3"
    },
    "accelerator": "GPU"
  },
  "cells": [
    {
      "cell_type": "markdown",
      "metadata": {
        "id": "view-in-github",
        "colab_type": "text"
      },
      "source": [
        "[View in Colaboratory](https://colab.research.google.com/github/leandrohmvieira/ML-Capstone-Project/blob/master/Transfer_learning_DF.ipynb)"
      ]
    },
    {
      "metadata": {
        "id": "1bbCx2yT8wAv",
        "colab_type": "code",
        "colab": {
          "base_uri": "https://localhost:8080/",
          "height": 34
        },
        "outputId": "0827f64c-6214-4cee-c6cf-e710476a1817"
      },
      "cell_type": "code",
      "source": [
        "#essa célula existe para eu checar se o Google Colab não deletou meus arquivos\n",
        "import glob\n",
        "glob.glob('/content/*')"
      ],
      "execution_count": 1,
      "outputs": [
        {
          "output_type": "execute_result",
          "data": {
            "text/plain": [
              "['/content/datalab']"
            ]
          },
          "metadata": {
            "tags": []
          },
          "execution_count": 1
        }
      ]
    },
    {
      "metadata": {
        "id": "0aDW0-dk6imA",
        "colab_type": "text"
      },
      "cell_type": "markdown",
      "source": [
        "# Aplicação de redes convolutivas no dataset deep fashion\n",
        "\n",
        "Será utilizado a técnica de transfer learning neste exemplo"
      ]
    },
    {
      "metadata": {
        "id": "zhodBok_vEP2",
        "colab_type": "text"
      },
      "cell_type": "markdown",
      "source": [
        "# Deep fashion dataset\n",
        "\n",
        "O dataset utilizado para o treinamento é o Deep Fashion"
      ]
    },
    {
      "metadata": {
        "id": "Q8B4fJLbjtHJ",
        "colab_type": "code",
        "colab": {}
      },
      "cell_type": "code",
      "source": [
        "#caso necessário, todos os arquivos referentes ao dataset Deep Fashion estão localizados abaixo\n",
        "#wget https://www.dropbox.com/sh/ryl8efwispnjw21/AABpzYsttt7DIQmb2PckgbPXa/Anno/list_attr_cloth.txt?dl=0 -O fashion_data/Anno/list_attr_cloth.txt\n",
        "#wget https://www.dropbox.com/sh/ryl8efwispnjw21/AADYszB-Pv6mgwtiPEtQkHTva/Anno/list_attr_img.txt?dl=0 -O fashion_data/Anno/list_attr_img.txt\n",
        "#wget https://www.dropbox.com/sh/ryl8efwispnjw21/AADr1hf3nsOZEV3sOTZ1-m98a/Anno/list_bbox.txt?dl=0 -O fashion_data/Anno/list_bbox.txt\n",
        "#wget https://www.dropbox.com/sh/ryl8efwispnjw21/AACiFqyjpb21GyVwLNBATFQXa/Anno/list_category_cloth.txt?dl=0 -O fashion_data/Anno/list_category_cloth.txt\n",
        "#wget https://www.dropbox.com/sh/ryl8efwispnjw21/AAD3Mm6b2e9vkVdb35OfCA3fa/Anno/list_category_img.txt?dl=0 -O fashion_data/Anno/list_category_img.txt\n",
        "#wget https://www.dropbox.com/sh/ryl8efwispnjw21/AAARD4rdUT8oBQsjl4HuYAXha/Anno/list_landmarks.txt?dl=0 -O fashion_data/Anno/list_landmarks.txt\n",
        "#wget https://www.dropbox.com/sh/ryl8efwispnjw21/AACTJyCl9bprY90Z3frUZ-H-a/Eval/list_eval_partition.txt?dl=0 -O fashion_data/Eval/list_eval_partition.txt\n",
        "#wget https://www.dropbox.com/sh/ryl8efwispnjw21/AABKePZxbIrUHD0RjFLGA9q1a/README.txt?dl=0 -O fashion_data/README.txt\n",
        "#wget -c https://www.dropbox.com/sh/ryl8efwispnjw21/AACpZU-UKs_snxFH5Bp8RwOwa/Img/img.zip?dl=0 -O fashion_data/Img/img.zip"
      ],
      "execution_count": 0,
      "outputs": []
    },
    {
      "metadata": {
        "id": "NApiYH56sYYv",
        "colab_type": "code",
        "colab": {}
      },
      "cell_type": "code",
      "source": [
        "!mkdir -p 'downloads'\n",
        "\n",
        "#list_category_cloth contém 50 classes de roupas a serem classificadas\n",
        "!wget https://www.dropbox.com/sh/ryl8efwispnjw21/AACiFqyjpb21GyVwLNBATFQXa/Anno/list_category_cloth.txt?dl=0 -O downloads/list_category_cloth.txt\n",
        "\n",
        "#list_eval_partition descreve quais imagens devem ser utilizadas como treinamento, validação e teste\n",
        "!wget https://www.dropbox.com/sh/ryl8efwispnjw21/AACTJyCl9bprY90Z3frUZ-H-a/Eval/list_eval_partition.txt?dl=0 -O downloads/list_eval_partition.txt\n",
        "  \n",
        "#list_category_img contém as marcações das 50 classes em cada imagem do conjunto\n",
        "!wget https://www.dropbox.com/sh/ryl8efwispnjw21/AAD3Mm6b2e9vkVdb35OfCA3fa/Anno/list_category_img.txt?dl=0 -O downloads/list_category_img.txt\n",
        "\n",
        "#img.zip contém as imagens em si\n",
        "!wget -c https://www.dropbox.com/sh/ryl8efwispnjw21/AACpZU-UKs_snxFH5Bp8RwOwa/Img/img.zip?dl=0 -O downloads/img.zip\n"
      ],
      "execution_count": 0,
      "outputs": []
    },
    {
      "metadata": {
        "id": "ei_KA2pzwMev",
        "colab_type": "code",
        "colab": {}
      },
      "cell_type": "code",
      "source": [
        "#dezipando as imagens, esta etapa pode dar erro\n",
        "!unzip -n downloads/img.zip -d downloads/"
      ],
      "execution_count": 0,
      "outputs": []
    },
    {
      "metadata": {
        "id": "K4rEaTU9255A",
        "colab_type": "code",
        "colab": {}
      },
      "cell_type": "code",
      "source": [
        "!rm -rf /content/train/\n",
        "!rm -rf /content/val/\n",
        "!rm -rf /content/test/"
      ],
      "execution_count": 0,
      "outputs": []
    },
    {
      "metadata": {
        "id": "CBYhcyav1N47",
        "colab_type": "code",
        "colab": {}
      },
      "cell_type": "code",
      "source": [
        "#separa as imagens entre treino, validação e teste\n",
        "\n",
        "from shutil import copy\n",
        "import collections\n",
        "import os\n",
        "\n",
        "file_dir = '/content/downloads/'\n",
        "steps = ['train', 'val', 'test']\n",
        "categories = dict()\n",
        "img_params = collections.defaultdict(list)\n",
        "\n",
        "\n",
        "for i in steps:\n",
        "  os.makedirs(i,exist_ok=True)\n",
        "  \n",
        "#monta um dict com as categorias a serem classificadas\n",
        "with open('downloads/list_category_cloth.txt') as f:\n",
        "  next(f)\n",
        "  next(f)\n",
        "  lineno = 1\n",
        "  for line in f:\n",
        "    arglist = ' '.join(line.split()).split(' ')\n",
        "    categories.update({lineno:arglist[0]})\n",
        "    lineno +=1\n",
        "\n",
        "#cria os diretórios de cada categoria nos diretórios de cada etapa\n",
        "for step in steps:\n",
        "  for cat in categories.keys():\n",
        "    os.makedirs(step+\"/\"+str(cat),exist_ok=True)\n",
        "    \n",
        "    \n",
        "#monta um dict que indica para cada arquivo, a qual etapa ele pertence e qual sua label correspondente\n",
        "with open('downloads/list_eval_partition.txt') as f:\n",
        "  next(f)\n",
        "  next(f)\n",
        "  for line in f:\n",
        "    arglist = ' '.join(line.split()).split(' ')\n",
        "    img_params[arglist[0]].append(arglist[1])\n",
        "    \n",
        "with open('downloads/list_category_img.txt') as g:\n",
        "      next(g)\n",
        "      next(g)\n",
        "      for line2 in g:\n",
        "        arglist2 = ' '.join(line2.split()).split(' ')\n",
        "        img_params[arglist2[0]].append(arglist2[1])\n",
        "\n",
        "#com os parametros necessários, copia os arquivos para seus respectivos lugares\n",
        "# ESSA PORRA AQUI NÃO TÁ COPIANDO O CARALHO DAS IMAGENS\n",
        "for image in img_params.keys():\n",
        "  params = img_params.get(image)\n",
        "  #copy2(file_dir+image,\"/content/\"+params[0]+\"/\"+str(params[1]))\n",
        "  source = file_dir+image\n",
        "  dest = \"/content/\"+params[0]+'/'+str(params[1])+'/'+image.split('/')[1]+image.split('/')[2]\n",
        "  copy(source,dest)\n",
        "  #print(\"copiando {} para {}\".format(source,dest))"
      ],
      "execution_count": 0,
      "outputs": []
    },
    {
      "metadata": {
        "id": "JbZBjr_md-rl",
        "colab_type": "code",
        "colab": {
          "base_uri": "https://localhost:8080/",
          "height": 85
        },
        "outputId": "a1741154-4302-493f-f2f0-5d8c9318119c"
      },
      "cell_type": "code",
      "source": [
        "total_files = len(glob.glob('/content/downloads/img/*/*.jpg'))\n",
        "total_train = len(glob.glob('/content/train/*/*.jpg'))\n",
        "total_val = len(glob.glob('/content/val/*/*.jpg'))\n",
        "total_test = len(glob.glob('/content/test/*/*.jpg'))\n",
        " \n",
        "print('total de arquivos do dataset:{}'.format(total_files))\n",
        "print('total de arquivos de treino:{}'.format(total_train))\n",
        "print('total de arquivos de validacao:{}'.format(total_val))\n",
        "print('total de arquivos de teste:{}'.format(total_test))\n",
        "\n",
        "  "
      ],
      "execution_count": 5,
      "outputs": [
        {
          "output_type": "stream",
          "text": [
            "total de arquivos do dataset:289229\n",
            "total de arquivos de treino:209222\n",
            "total de arquivos de validacao:40000\n",
            "total de arquivos de teste:40000\n"
          ],
          "name": "stdout"
        }
      ]
    },
    {
      "metadata": {
        "id": "e5_3KDOWY8c-",
        "colab_type": "text"
      },
      "cell_type": "markdown",
      "source": [
        "# Preprocessing\n",
        "\n",
        "Agora que os arquivos estão dispostos nas pastas , iremos montar as entradas para o treinamento da rede neural. O Keras não aceita imagens com resoluções variadas, para contornar estas situações,como primeira medida irei redimensionar todas as imagens para o tamanho da maior imagem do conjunto."
      ]
    },
    {
      "metadata": {
        "id": "MyRsOl45UueZ",
        "colab_type": "code",
        "colab": {
          "base_uri": "https://localhost:8080/",
          "height": 34
        },
        "outputId": "5294048a-04e8-4a8d-9b46-5525e6954abe"
      },
      "cell_type": "code",
      "source": [
        "#usarei a classe ImageDataGenerator para corrigir as diferenças de resolução entre as imagens\n",
        "\n",
        "from keras.preprocessing.image import ImageDataGenerator\n",
        "\n",
        "train_datagen = ImageDataGenerator(rescale=1./255)\n",
        "val_datagen = ImageDataGenerator(rescale=1./255)\n",
        "test_datagen = ImageDataGenerator(rescale=1./255)"
      ],
      "execution_count": 0,
      "outputs": [
        {
          "output_type": "stream",
          "text": [
            "Using TensorFlow backend.\n"
          ],
          "name": "stderr"
        }
      ]
    },
    {
      "metadata": {
        "id": "lYdK_eOWahPI",
        "colab_type": "code",
        "colab": {
          "base_uri": "https://localhost:8080/",
          "height": 68
        },
        "outputId": "51128cf2-17b3-4b6a-ec5e-e40560fc1c5f"
      },
      "cell_type": "code",
      "source": [
        "bat_size = 100\n",
        "tgt_size = (300,200)\n",
        "\n",
        "#A partir dos geradores é possível chamar a função flow_from_directory, que cria o objeto de dados a partir de um path\n",
        "\n",
        "train_generator = train_datagen.flow_from_directory(\n",
        "    '/content/train/',\n",
        "    target_size= tgt_size,\n",
        "    batch_size= bat_size,\n",
        "    class_mode='categorical'\n",
        ")\n",
        "\n",
        "val_generator = val_datagen.flow_from_directory(\n",
        "    '/content/val/',\n",
        "    target_size= tgt_size,\n",
        "    batch_size=bat_size,\n",
        "    class_mode='categorical'\n",
        ")\n",
        "\n",
        "test_generator = test_datagen.flow_from_directory(\n",
        "    '/content/test/',\n",
        "    target_size = tgt_size,\n",
        "    class_mode = 'categorical'\n",
        "    \n",
        "    )"
      ],
      "execution_count": 0,
      "outputs": [
        {
          "output_type": "stream",
          "text": [
            "Found 209222 images belonging to 50 classes.\n",
            "Found 40000 images belonging to 50 classes.\n",
            "Found 40000 images belonging to 50 classes.\n"
          ],
          "name": "stdout"
        }
      ]
    },
    {
      "metadata": {
        "id": "SQHGtbLuXDpR",
        "colab_type": "text"
      },
      "cell_type": "markdown",
      "source": [
        "# Definindo a arquitetura da Rede Neural\n",
        "\n",
        "A arquitetura inicial consiste em treinar uma rede convolucional com 3 camadas de convolucao, separadas por camadas de max pooling, encerrando em 2 camadas densas"
      ]
    },
    {
      "metadata": {
        "id": "EMqcmkgjPYm1",
        "colab_type": "code",
        "colab": {
          "base_uri": "https://localhost:8080/",
          "height": 884
        },
        "outputId": "b8bcfc5c-4728-48b8-aa2e-fa034751c8e1"
      },
      "cell_type": "code",
      "source": [
        "#importa o VGG19 para testar uma rede de transferência\n",
        "from keras.applications import VGG19\n",
        " \n",
        "model = VGG19(weights = \"imagenet\", include_top=False, input_shape = (200, 300, 3))\n",
        "\n",
        "model.summary()"
      ],
      "execution_count": 22,
      "outputs": [
        {
          "output_type": "stream",
          "text": [
            "_________________________________________________________________\n",
            "Layer (type)                 Output Shape              Param #   \n",
            "=================================================================\n",
            "input_5 (InputLayer)         (None, 200, 300, 3)       0         \n",
            "_________________________________________________________________\n",
            "block1_conv1 (Conv2D)        (None, 200, 300, 64)      1792      \n",
            "_________________________________________________________________\n",
            "block1_conv2 (Conv2D)        (None, 200, 300, 64)      36928     \n",
            "_________________________________________________________________\n",
            "block1_pool (MaxPooling2D)   (None, 100, 150, 64)      0         \n",
            "_________________________________________________________________\n",
            "block2_conv1 (Conv2D)        (None, 100, 150, 128)     73856     \n",
            "_________________________________________________________________\n",
            "block2_conv2 (Conv2D)        (None, 100, 150, 128)     147584    \n",
            "_________________________________________________________________\n",
            "block2_pool (MaxPooling2D)   (None, 50, 75, 128)       0         \n",
            "_________________________________________________________________\n",
            "block3_conv1 (Conv2D)        (None, 50, 75, 256)       295168    \n",
            "_________________________________________________________________\n",
            "block3_conv2 (Conv2D)        (None, 50, 75, 256)       590080    \n",
            "_________________________________________________________________\n",
            "block3_conv3 (Conv2D)        (None, 50, 75, 256)       590080    \n",
            "_________________________________________________________________\n",
            "block3_conv4 (Conv2D)        (None, 50, 75, 256)       590080    \n",
            "_________________________________________________________________\n",
            "block3_pool (MaxPooling2D)   (None, 25, 37, 256)       0         \n",
            "_________________________________________________________________\n",
            "block4_conv1 (Conv2D)        (None, 25, 37, 512)       1180160   \n",
            "_________________________________________________________________\n",
            "block4_conv2 (Conv2D)        (None, 25, 37, 512)       2359808   \n",
            "_________________________________________________________________\n",
            "block4_conv3 (Conv2D)        (None, 25, 37, 512)       2359808   \n",
            "_________________________________________________________________\n",
            "block4_conv4 (Conv2D)        (None, 25, 37, 512)       2359808   \n",
            "_________________________________________________________________\n",
            "block4_pool (MaxPooling2D)   (None, 12, 18, 512)       0         \n",
            "_________________________________________________________________\n",
            "block5_conv1 (Conv2D)        (None, 12, 18, 512)       2359808   \n",
            "_________________________________________________________________\n",
            "block5_conv2 (Conv2D)        (None, 12, 18, 512)       2359808   \n",
            "_________________________________________________________________\n",
            "block5_conv3 (Conv2D)        (None, 12, 18, 512)       2359808   \n",
            "_________________________________________________________________\n",
            "block5_conv4 (Conv2D)        (None, 12, 18, 512)       2359808   \n",
            "_________________________________________________________________\n",
            "block5_pool (MaxPooling2D)   (None, 6, 9, 512)         0         \n",
            "=================================================================\n",
            "Total params: 20,024,384\n",
            "Trainable params: 20,024,384\n",
            "Non-trainable params: 0\n",
            "_________________________________________________________________\n"
          ],
          "name": "stdout"
        }
      ]
    },
    {
      "metadata": {
        "id": "KbSnYKyQSNfy",
        "colab_type": "code",
        "colab": {}
      },
      "cell_type": "code",
      "source": [
        "#congela as camadas iniciais da rede, para treinar apenas as camadas de alto nivel\n",
        "\n",
        "for layer in model.layers[:7]:\n",
        "  layer.trainable = False  "
      ],
      "execution_count": 0,
      "outputs": []
    },
    {
      "metadata": {
        "id": "jVHuPLCOT4oJ",
        "colab_type": "code",
        "colab": {
          "base_uri": "https://localhost:8080/",
          "height": 34
        },
        "outputId": "63f8bd29-8092-4361-e99e-f47cc1892508"
      },
      "cell_type": "code",
      "source": [
        "model.output"
      ],
      "execution_count": 24,
      "outputs": [
        {
          "output_type": "execute_result",
          "data": {
            "text/plain": [
              "[<keras.layers.pooling.MaxPooling2D at 0x7f7229643860>]"
            ]
          },
          "metadata": {
            "tags": []
          },
          "execution_count": 24
        }
      ]
    },
    {
      "metadata": {
        "id": "W2SNoViVWXEU",
        "colab_type": "code",
        "colab": {
          "base_uri": "https://localhost:8080/",
          "height": 231
        },
        "outputId": "38a45787-207d-4c24-e9bf-c42faccf8682"
      },
      "cell_type": "code",
      "source": [
        "#adiciona as camadas restantes na rede\n",
        "\n",
        "from keras.layers import Flatten, Dense, Dropout\n",
        "\n",
        "model.add(Flatten())\n",
        "model.add(Dense(500, activation='relu'))\n",
        "model.add(Dropout(0.4))\n",
        "model.add(Dense(500, activation='relu'))\n",
        "model.add(Dropout(0.4))\n",
        "model.add(Dense(50, activation='softmax'))\n",
        "\n",
        "model.summary()"
      ],
      "execution_count": 20,
      "outputs": [
        {
          "output_type": "error",
          "ename": "AttributeError",
          "evalue": "ignored",
          "traceback": [
            "\u001b[0;31m---------------------------------------------------------------------------\u001b[0m",
            "\u001b[0;31mAttributeError\u001b[0m                            Traceback (most recent call last)",
            "\u001b[0;32m<ipython-input-20-aa80e61699b0>\u001b[0m in \u001b[0;36m<module>\u001b[0;34m()\u001b[0m\n\u001b[1;32m      2\u001b[0m \u001b[0;32mfrom\u001b[0m \u001b[0mkeras\u001b[0m\u001b[0;34m.\u001b[0m\u001b[0mlayers\u001b[0m \u001b[0;32mimport\u001b[0m \u001b[0mFlatten\u001b[0m\u001b[0;34m,\u001b[0m \u001b[0mDense\u001b[0m\u001b[0;34m,\u001b[0m \u001b[0mDropout\u001b[0m\u001b[0;34m\u001b[0m\u001b[0m\n\u001b[1;32m      3\u001b[0m \u001b[0;34m\u001b[0m\u001b[0m\n\u001b[0;32m----> 4\u001b[0;31m \u001b[0mmodel\u001b[0m\u001b[0;34m.\u001b[0m\u001b[0madd\u001b[0m\u001b[0;34m(\u001b[0m\u001b[0mFlatten\u001b[0m\u001b[0;34m(\u001b[0m\u001b[0;34m)\u001b[0m\u001b[0;34m)\u001b[0m\u001b[0;34m\u001b[0m\u001b[0m\n\u001b[0m\u001b[1;32m      5\u001b[0m \u001b[0mmodel\u001b[0m\u001b[0;34m.\u001b[0m\u001b[0madd\u001b[0m\u001b[0;34m(\u001b[0m\u001b[0mDense\u001b[0m\u001b[0;34m(\u001b[0m\u001b[0;36m500\u001b[0m\u001b[0;34m,\u001b[0m \u001b[0mactivation\u001b[0m\u001b[0;34m=\u001b[0m\u001b[0;34m'relu'\u001b[0m\u001b[0;34m)\u001b[0m\u001b[0;34m)\u001b[0m\u001b[0;34m\u001b[0m\u001b[0m\n\u001b[1;32m      6\u001b[0m \u001b[0mmodel\u001b[0m\u001b[0;34m.\u001b[0m\u001b[0madd\u001b[0m\u001b[0;34m(\u001b[0m\u001b[0mDropout\u001b[0m\u001b[0;34m(\u001b[0m\u001b[0;36m0.4\u001b[0m\u001b[0;34m)\u001b[0m\u001b[0;34m)\u001b[0m\u001b[0;34m\u001b[0m\u001b[0m\n",
            "\u001b[0;31mAttributeError\u001b[0m: 'Model' object has no attribute 'add'"
          ]
        }
      ]
    },
    {
      "metadata": {
        "id": "ZLBfYgilk5kv",
        "colab_type": "code",
        "colab": {}
      },
      "cell_type": "code",
      "source": [
        "#compila e treina o modelo\n",
        "\n",
        "model.compile(loss='categorical_crossentropy', optimizer='adam', \n",
        "                  metrics=['accuracy'])"
      ],
      "execution_count": 0,
      "outputs": []
    },
    {
      "metadata": {
        "id": "_QEkcnemlMIx",
        "colab_type": "code",
        "colab": {
          "base_uri": "https://localhost:8080/",
          "height": 51
        },
        "outputId": "8e044b31-c55a-486c-f126-69a866906c9b"
      },
      "cell_type": "code",
      "source": [
        "from keras.callbacks import ModelCheckpoint \n",
        "\n",
        "# train the model\n",
        "checkpointer = ModelCheckpoint(filepath='model.weights.best.hdf5', verbose=1, \n",
        "                               save_best_only=True)\n",
        "\n",
        "model.fit_generator(train_generator,validation_data=val_generator,epochs=3,callbacks=[checkpointer])"
      ],
      "execution_count": 0,
      "outputs": [
        {
          "output_type": "stream",
          "text": [
            "Epoch 1/3\n",
            " 350/2093 [====>.........................] - ETA: 11:10 - loss: 2.6089 - acc: 0.2866"
          ],
          "name": "stdout"
        }
      ]
    },
    {
      "metadata": {
        "id": "3gmb6neJgTo9",
        "colab_type": "code",
        "colab": {}
      },
      "cell_type": "code",
      "source": [
        "model.save('my_model.h5')"
      ],
      "execution_count": 0,
      "outputs": []
    },
    {
      "metadata": {
        "id": "ZJHFncfTFIDF",
        "colab_type": "code",
        "colab": {
          "base_uri": "https://localhost:8080/",
          "height": 51
        },
        "outputId": "9c762ec9-150b-4ebe-ffc7-9fc6a48111b4"
      },
      "cell_type": "code",
      "source": [
        "score = model.evaluate_generator(test_generator)\n",
        "print('\\n', 'Test accuracy:', score[1])"
      ],
      "execution_count": 0,
      "outputs": [
        {
          "output_type": "stream",
          "text": [
            "\n",
            " Test accuracy: 0.48765\n"
          ],
          "name": "stdout"
        }
      ]
    },
    {
      "metadata": {
        "id": "weqBW-AUL5ep",
        "colab_type": "code",
        "colab": {
          "base_uri": "https://localhost:8080/",
          "height": 136
        },
        "outputId": "07077459-8d9e-464e-fa61-5f3caa063548"
      },
      "cell_type": "code",
      "source": [
        "glob.glob('/content/*')"
      ],
      "execution_count": 0,
      "outputs": [
        {
          "output_type": "execute_result",
          "data": {
            "text/plain": [
              "['/content/datalab',\n",
              " '/content/val',\n",
              " '/content/train',\n",
              " '/content/model.weights.best.hdf5',\n",
              " '/content/my_model.h5',\n",
              " '/content/downloads',\n",
              " '/content/test']"
            ]
          },
          "metadata": {
            "tags": []
          },
          "execution_count": 22
        }
      ]
    },
    {
      "metadata": {
        "id": "sLG1jCI1iieR",
        "colab_type": "code",
        "colab": {}
      },
      "cell_type": "code",
      "source": [
        "#NAO FUNCIONA\n",
        "from google.colab import files\n",
        "\n",
        "files.download('/content/my_model.h5')"
      ],
      "execution_count": 0,
      "outputs": []
    },
    {
      "metadata": {
        "id": "1zFMQi6aQnVI",
        "colab_type": "text"
      },
      "cell_type": "markdown",
      "source": [
        "o Google Colab não permite realizar download direto de grandes estruturas de dados, então para contornar o problema, eu salvei os pesos da rede neural no meu repositório do Google Drive"
      ]
    },
    {
      "metadata": {
        "id": "5or5mXeQQBla",
        "colab_type": "code",
        "colab": {
          "base_uri": "https://localhost:8080/",
          "height": 34
        },
        "outputId": "c114a932-95fc-49a6-aedb-a7c82a0dd37e"
      },
      "cell_type": "code",
      "source": [
        "# Install the PyDrive wrapper & import libraries.\n",
        "# This only needs to be done once in a notebook.\n",
        "!pip install -U -q PyDrive\n",
        "from pydrive.auth import GoogleAuth\n",
        "from pydrive.drive import GoogleDrive\n",
        "from google.colab import auth\n",
        "from oauth2client.client import GoogleCredentials\n",
        "\n",
        "# Authenticate and create the PyDrive client.\n",
        "# This only needs to be done once in a notebook.\n",
        "auth.authenticate_user()\n",
        "gauth = GoogleAuth()\n",
        "gauth.credentials = GoogleCredentials.get_application_default()\n",
        "drive = GoogleDrive(gauth)\n",
        "\n",
        "# Create & upload a file.\n",
        "uploaded = drive.CreateFile({'title': 'my_model.h5'})\n",
        "uploaded.SetContentFile('/content/my_model.h5')\n",
        "uploaded.Upload()\n",
        "print('Uploaded file with ID {}'.format(uploaded.get('id')))"
      ],
      "execution_count": 0,
      "outputs": [
        {
          "output_type": "stream",
          "text": [
            "Uploaded file with ID 1YD2SH2xT0D4dMtI5kcnDWdT791x9YKbU\n"
          ],
          "name": "stdout"
        }
      ]
    }
  ]
}