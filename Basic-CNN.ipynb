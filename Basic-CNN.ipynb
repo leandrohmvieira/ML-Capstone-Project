{
  "nbformat": 4,
  "nbformat_minor": 0,
  "metadata": {
    "colab": {
      "name": "Deep fashion.ipynb",
      "version": "0.3.2",
      "provenance": [],
      "collapsed_sections": []
    },
    "kernelspec": {
      "name": "python3",
      "display_name": "Python 3"
    },
    "accelerator": "GPU"
  },
  "cells": [
    {
      "cell_type": "markdown",
      "metadata": {
        "id": "view-in-github",
        "colab_type": "text"
      },
      "source": [
        "[View in Colaboratory](https://colab.research.google.com/github/leandrohmvieira/ML-Capstone-Project/blob/master/Deep_fashion.ipynb)"
      ]
    },
    {
      "metadata": {
        "id": "1bbCx2yT8wAv",
        "colab_type": "code",
        "colab": {
          "base_uri": "https://localhost:8080/",
          "height": 34
        },
        "outputId": "8a15cbc8-4796-429c-e68f-fbe4c136e4ab"
      },
      "cell_type": "code",
      "source": [
        "#essa célula existe para eu checar se o Google Colab não deletou meus arquivos\n",
        "import glob\n",
        "glob.glob('/content/*')"
      ],
      "execution_count": 2,
      "outputs": [
        {
          "output_type": "execute_result",
          "data": {
            "text/plain": [
              "['/content/datalab']"
            ]
          },
          "metadata": {
            "tags": []
          },
          "execution_count": 2
        }
      ]
    },
    {
      "metadata": {
        "id": "0aDW0-dk6imA",
        "colab_type": "text"
      },
      "cell_type": "markdown",
      "source": [
        "# Aplicação de redes convolutivas no dataset deep fashion\n",
        "\n",
        "Será construída uma rede neural convolutiva simples neste exemplo"
      ]
    },
    {
      "metadata": {
        "id": "zhodBok_vEP2",
        "colab_type": "text"
      },
      "cell_type": "markdown",
      "source": [
        "# Deep fashion dataset\n",
        "\n",
        "O dataset utilizado para o treinamento é o Deep Fashion"
      ]
    },
    {
      "metadata": {
        "id": "Q8B4fJLbjtHJ",
        "colab_type": "code",
        "colab": {}
      },
      "cell_type": "code",
      "source": [
        "#caso necessário, todos os arquivos referentes ao dataset Deep Fashion estão localizados abaixo\n",
        "#wget https://www.dropbox.com/sh/ryl8efwispnjw21/AABpzYsttt7DIQmb2PckgbPXa/Anno/list_attr_cloth.txt?dl=0 -O fashion_data/Anno/list_attr_cloth.txt\n",
        "#wget https://www.dropbox.com/sh/ryl8efwispnjw21/AADYszB-Pv6mgwtiPEtQkHTva/Anno/list_attr_img.txt?dl=0 -O fashion_data/Anno/list_attr_img.txt\n",
        "#wget https://www.dropbox.com/sh/ryl8efwispnjw21/AADr1hf3nsOZEV3sOTZ1-m98a/Anno/list_bbox.txt?dl=0 -O fashion_data/Anno/list_bbox.txt\n",
        "#wget https://www.dropbox.com/sh/ryl8efwispnjw21/AACiFqyjpb21GyVwLNBATFQXa/Anno/list_category_cloth.txt?dl=0 -O fashion_data/Anno/list_category_cloth.txt\n",
        "#wget https://www.dropbox.com/sh/ryl8efwispnjw21/AAD3Mm6b2e9vkVdb35OfCA3fa/Anno/list_category_img.txt?dl=0 -O fashion_data/Anno/list_category_img.txt\n",
        "#wget https://www.dropbox.com/sh/ryl8efwispnjw21/AAARD4rdUT8oBQsjl4HuYAXha/Anno/list_landmarks.txt?dl=0 -O fashion_data/Anno/list_landmarks.txt\n",
        "#wget https://www.dropbox.com/sh/ryl8efwispnjw21/AACTJyCl9bprY90Z3frUZ-H-a/Eval/list_eval_partition.txt?dl=0 -O fashion_data/Eval/list_eval_partition.txt\n",
        "#wget https://www.dropbox.com/sh/ryl8efwispnjw21/AABKePZxbIrUHD0RjFLGA9q1a/README.txt?dl=0 -O fashion_data/README.txt\n",
        "#wget -c https://www.dropbox.com/sh/ryl8efwispnjw21/AACpZU-UKs_snxFH5Bp8RwOwa/Img/img.zip?dl=0 -O fashion_data/Img/img.zip"
      ],
      "execution_count": 0,
      "outputs": []
    },
    {
      "metadata": {
        "id": "NApiYH56sYYv",
        "colab_type": "code",
        "colab": {}
      },
      "cell_type": "code",
      "source": [
        "!mkdir -p 'downloads'\n",
        "\n",
        "#list_category_cloth contém 50 classes de roupas a serem classificadas\n",
        "!wget https://www.dropbox.com/sh/ryl8efwispnjw21/AACiFqyjpb21GyVwLNBATFQXa/Anno/list_category_cloth.txt?dl=0 -O downloads/list_category_cloth.txt\n",
        "\n",
        "#list_eval_partition descreve quais imagens devem ser utilizadas como treinamento, validação e teste\n",
        "!wget https://www.dropbox.com/sh/ryl8efwispnjw21/AACTJyCl9bprY90Z3frUZ-H-a/Eval/list_eval_partition.txt?dl=0 -O downloads/list_eval_partition.txt\n",
        "  \n",
        "#list_category_img contém as marcações das 50 classes em cada imagem do conjunto\n",
        "!wget https://www.dropbox.com/sh/ryl8efwispnjw21/AAD3Mm6b2e9vkVdb35OfCA3fa/Anno/list_category_img.txt?dl=0 -O downloads/list_category_img.txt\n",
        "\n",
        "#img.zip contém as imagens em si\n",
        "!wget -c https://www.dropbox.com/sh/ryl8efwispnjw21/AACpZU-UKs_snxFH5Bp8RwOwa/Img/img.zip?dl=0 -O downloads/img.zip\n"
      ],
      "execution_count": 0,
      "outputs": []
    },
    {
      "metadata": {
        "id": "ei_KA2pzwMev",
        "colab_type": "code",
        "colab": {}
      },
      "cell_type": "code",
      "source": [
        "#dezipando as imagens, esta etapa pode dar erro\n",
        "!unzip -n downloads/img.zip -d downloads/"
      ],
      "execution_count": 0,
      "outputs": []
    },
    {
      "metadata": {
        "id": "K4rEaTU9255A",
        "colab_type": "code",
        "colab": {}
      },
      "cell_type": "code",
      "source": [
        "!rm -rf /content/train/\n",
        "!rm -rf /content/val/\n",
        "!rm -rf /content/test/"
      ],
      "execution_count": 0,
      "outputs": []
    },
    {
      "metadata": {
        "id": "CBYhcyav1N47",
        "colab_type": "code",
        "colab": {}
      },
      "cell_type": "code",
      "source": [
        "#separa as imagens entre treino, validação e teste\n",
        "\n",
        "from shutil import copy\n",
        "import collections\n",
        "import os\n",
        "\n",
        "file_dir = '/content/downloads/'\n",
        "steps = ['train', 'val', 'test']\n",
        "categories = dict()\n",
        "img_params = collections.defaultdict(list)\n",
        "\n",
        "\n",
        "for i in steps:\n",
        "  os.makedirs(i,exist_ok=True)\n",
        "  \n",
        "#monta um dict com as categorias a serem classificadas\n",
        "with open('downloads/list_category_cloth.txt') as f:\n",
        "  next(f)\n",
        "  next(f)\n",
        "  lineno = 1\n",
        "  for line in f:\n",
        "    arglist = ' '.join(line.split()).split(' ')\n",
        "    categories.update({lineno:arglist[0]})\n",
        "    lineno +=1\n",
        "\n",
        "#cria os diretórios de cada categoria nos diretórios de cada etapa\n",
        "for step in steps:\n",
        "  for cat in categories.keys():\n",
        "    os.makedirs(step+\"/\"+str(cat),exist_ok=True)\n",
        "    \n",
        "    \n",
        "#monta um dict que indica para cada arquivo, a qual etapa ele pertence e qual sua label correspondente\n",
        "with open('downloads/list_eval_partition.txt') as f:\n",
        "  next(f)\n",
        "  next(f)\n",
        "  for line in f:\n",
        "    arglist = ' '.join(line.split()).split(' ')\n",
        "    img_params[arglist[0]].append(arglist[1])\n",
        "    \n",
        "with open('downloads/list_category_img.txt') as g:\n",
        "      next(g)\n",
        "      next(g)\n",
        "      for line2 in g:\n",
        "        arglist2 = ' '.join(line2.split()).split(' ')\n",
        "        img_params[arglist2[0]].append(arglist2[1])\n",
        "\n",
        "#com os parametros necessários, copia os arquivos para seus respectivos lugares\n",
        "# ESSA PORRA AQUI NÃO TÁ COPIANDO O CARALHO DAS IMAGENS\n",
        "for image in img_params.keys():\n",
        "  params = img_params.get(image)\n",
        "  #copy2(file_dir+image,\"/content/\"+params[0]+\"/\"+str(params[1]))\n",
        "  source = file_dir+image\n",
        "  dest = \"/content/\"+params[0]+'/'+str(params[1])+'/'+image.split('/')[1]+image.split('/')[2]\n",
        "  copy(source,dest)\n",
        "  #print(\"copiando {} para {}\".format(source,dest))"
      ],
      "execution_count": 0,
      "outputs": []
    },
    {
      "metadata": {
        "id": "JbZBjr_md-rl",
        "colab_type": "code",
        "colab": {
          "base_uri": "https://localhost:8080/",
          "height": 85
        },
        "outputId": "9cf3d3e6-f8e4-49f2-cb2b-56699cc4bda1"
      },
      "cell_type": "code",
      "source": [
        "total_files = len(glob.glob('/content/downloads/img/*/*.jpg'))\n",
        "total_train = len(glob.glob('/content/train/*/*.jpg'))\n",
        "total_val = len(glob.glob('/content/val/*/*.jpg'))\n",
        "total_test = len(glob.glob('/content/test/*/*.jpg'))\n",
        " \n",
        "print('total de arquivos do dataset:{}'.format(total_files))\n",
        "print('total de arquivos de treino:{}'.format(total_train))\n",
        "print('total de arquivos de validacao:{}'.format(total_val))\n",
        "print('total de arquivos de teste:{}'.format(total_test))\n",
        "\n",
        "  "
      ],
      "execution_count": 7,
      "outputs": [
        {
          "output_type": "stream",
          "text": [
            "total de arquivos do dataset:289229\n",
            "total de arquivos de treino:209222\n",
            "total de arquivos de validacao:40000\n",
            "total de arquivos de teste:40000\n"
          ],
          "name": "stdout"
        }
      ]
    },
    {
      "metadata": {
        "id": "e5_3KDOWY8c-",
        "colab_type": "text"
      },
      "cell_type": "markdown",
      "source": [
        "# Preprocessing\n",
        "\n",
        "Agora que os arquivos estão dispostos nas pastas , iremos montar as entradas para o treinamento da rede neural. O Keras não aceita imagens com resoluções variadas, para contornar estas situações,como primeira medida irei redimensionar todas as imagens para o tamanho da maior imagem do conjunto.\n",
        "\n",
        "Caso o redimensionamento das imagens não deem um bom resultado, tentarei métodos mais sofisticados."
      ]
    },
    {
      "metadata": {
        "id": "MyRsOl45UueZ",
        "colab_type": "code",
        "colab": {}
      },
      "cell_type": "code",
      "source": [
        "#usarei a classe ImageDataGenerator para corrigir as diferenças de resolução entre as imagens\n",
        "\n",
        "from keras.preprocessing.image import ImageDataGenerator\n",
        "\n",
        "train_datagen = ImageDataGenerator(rescale=1./255)\n",
        "val_datagen = ImageDataGenerator(rescale=1./255)\n",
        "test_datagen = ImageDataGenerator(rescale=1./255)"
      ],
      "execution_count": 0,
      "outputs": []
    },
    {
      "metadata": {
        "id": "lYdK_eOWahPI",
        "colab_type": "code",
        "colab": {
          "base_uri": "https://localhost:8080/",
          "height": 68
        },
        "outputId": "94c67b50-b112-4dc7-e129-af15d4760e35"
      },
      "cell_type": "code",
      "source": [
        "bat_size = 100\n",
        "tgt_size = (300,200)\n",
        "\n",
        "#A partir dos geradores é possível chamar a função flow_from_directory, que cria o objeto de dados a partir de um path\n",
        "\n",
        "train_generator = train_datagen.flow_from_directory(\n",
        "    '/content/train/',\n",
        "    target_size= tgt_size,\n",
        "    batch_size= bat_size,\n",
        "    class_mode='categorical'\n",
        ")\n",
        "\n",
        "val_generator = val_datagen.flow_from_directory(\n",
        "    '/content/val/',\n",
        "    target_size= tgt_size,\n",
        "    batch_size=bat_size,\n",
        "    class_mode='categorical'\n",
        ")\n",
        "\n",
        "test_generator = test_datagen.flow_from_directory(\n",
        "    '/content/test/',\n",
        "    target_size = tgt_size,\n",
        "    class_mode = 'categorical'\n",
        "    \n",
        "    )"
      ],
      "execution_count": 27,
      "outputs": [
        {
          "output_type": "stream",
          "text": [
            "Found 209222 images belonging to 50 classes.\n",
            "Found 40000 images belonging to 50 classes.\n",
            "Found 40000 images belonging to 50 classes.\n"
          ],
          "name": "stdout"
        }
      ]
    },
    {
      "metadata": {
        "id": "SQHGtbLuXDpR",
        "colab_type": "text"
      },
      "cell_type": "markdown",
      "source": [
        "# Definindo a arquitetura da Rede Neural\n",
        "\n",
        "A arquitetura inicial consiste em treinar uma rede convolucional com 3 camadas de convolucao, separadas por camadas de max pooling, encerrando em 2 camadas densas"
      ]
    },
    {
      "metadata": {
        "id": "W2SNoViVWXEU",
        "colab_type": "code",
        "colab": {
          "base_uri": "https://localhost:8080/",
          "height": 578
        },
        "outputId": "92139719-e58f-403f-e52f-51c90847b457"
      },
      "cell_type": "code",
      "source": [
        "from keras.models import Sequential\n",
        "from keras.layers import Conv2D, MaxPooling2D, Flatten, Dense, Dropout\n",
        "\n",
        "kernelsize = (2,3)\n",
        "\n",
        "model = Sequential()\n",
        "model.add(Conv2D(filters=16, kernel_size=kernelsize, padding='same', activation='relu', \n",
        "                        input_shape=(300, 200, 3)))\n",
        "model.add(MaxPooling2D(pool_size=2))\n",
        "model.add(Conv2D(filters=32, kernel_size=kernelsize, padding='same', activation='relu'))\n",
        "model.add(MaxPooling2D(pool_size=2))\n",
        "model.add(Conv2D(filters=64, kernel_size=kernelsize, padding='same', activation='relu'))\n",
        "model.add(MaxPooling2D(pool_size=2))\n",
        "model.add(Dropout(0.3))\n",
        "model.add(Flatten())\n",
        "model.add(Dense(500, activation='relu'))\n",
        "model.add(Dropout(0.4))\n",
        "model.add(Dense(500, activation='relu'))\n",
        "model.add(Dropout(0.4))\n",
        "model.add(Dense(50, activation='softmax'))\n",
        "\n",
        "model.summary()"
      ],
      "execution_count": 16,
      "outputs": [
        {
          "output_type": "stream",
          "text": [
            "_________________________________________________________________\n",
            "Layer (type)                 Output Shape              Param #   \n",
            "=================================================================\n",
            "conv2d_7 (Conv2D)            (None, 300, 200, 16)      304       \n",
            "_________________________________________________________________\n",
            "max_pooling2d_7 (MaxPooling2 (None, 150, 100, 16)      0         \n",
            "_________________________________________________________________\n",
            "conv2d_8 (Conv2D)            (None, 150, 100, 32)      3104      \n",
            "_________________________________________________________________\n",
            "max_pooling2d_8 (MaxPooling2 (None, 75, 50, 32)        0         \n",
            "_________________________________________________________________\n",
            "conv2d_9 (Conv2D)            (None, 75, 50, 64)        12352     \n",
            "_________________________________________________________________\n",
            "max_pooling2d_9 (MaxPooling2 (None, 37, 25, 64)        0         \n",
            "_________________________________________________________________\n",
            "dropout_6 (Dropout)          (None, 37, 25, 64)        0         \n",
            "_________________________________________________________________\n",
            "flatten_3 (Flatten)          (None, 59200)             0         \n",
            "_________________________________________________________________\n",
            "dense_6 (Dense)              (None, 500)               29600500  \n",
            "_________________________________________________________________\n",
            "dropout_7 (Dropout)          (None, 500)               0         \n",
            "_________________________________________________________________\n",
            "dense_7 (Dense)              (None, 500)               250500    \n",
            "_________________________________________________________________\n",
            "dropout_8 (Dropout)          (None, 500)               0         \n",
            "_________________________________________________________________\n",
            "dense_8 (Dense)              (None, 50)                25050     \n",
            "=================================================================\n",
            "Total params: 29,891,810\n",
            "Trainable params: 29,891,810\n",
            "Non-trainable params: 0\n",
            "_________________________________________________________________\n"
          ],
          "name": "stdout"
        }
      ]
    },
    {
      "metadata": {
        "id": "ZLBfYgilk5kv",
        "colab_type": "code",
        "colab": {}
      },
      "cell_type": "code",
      "source": [
        "#compila e treina o modelo\n",
        "\n",
        "model.compile(loss='categorical_crossentropy', optimizer='rmsprop', \n",
        "                  metrics=['accuracy'])"
      ],
      "execution_count": 0,
      "outputs": []
    },
    {
      "metadata": {
        "id": "_QEkcnemlMIx",
        "colab_type": "code",
        "colab": {
          "base_uri": "https://localhost:8080/",
          "height": 102
        },
        "outputId": "477ba0c3-939c-4a1f-8ce3-7cd30a69bd1d"
      },
      "cell_type": "code",
      "source": [
        "from keras.callbacks import ModelCheckpoint \n",
        "\n",
        "# train the model\n",
        "checkpointer = ModelCheckpoint(filepath='model.weights.best.hdf5', verbose=1, \n",
        "                               save_best_only=True)\n",
        "\n",
        "model.fit_generator(train_generator,validation_data=val_generator,epochs=1,callbacks=[checkpointer])"
      ],
      "execution_count": 18,
      "outputs": [
        {
          "output_type": "stream",
          "text": [
            "Epoch 1/1\n",
            "2092/2093 [============================>.] - ETA: 0s - loss: 2.1581 - acc: 0.3853"
          ],
          "name": "stdout"
        },
        {
          "output_type": "stream",
          "text": [
            "\b\b\b\b\b\b\b\b\b\b\b\b\b\b\b\b\b\b\b\b\b\b\b\b\b\b\b\b\b\b\b\b\b\b\b\b\b\b\b\b\b\b\b\b\b\b\b\b\b\b\b\b\b\b\b\b\b\b\b\b\b\b\b\b\b\b\b\b\b\b\b\b\b\b\b\b\b\b\b\b\b\r2093/2093 [==============================] - 905s 433ms/step - loss: 2.1580 - acc: 0.3854 - val_loss: 1.8647 - val_acc: 0.4571\n",
            "\n",
            "Epoch 00001: val_loss improved from inf to 1.86467, saving model to model.weights.best.hdf5\n"
          ],
          "name": "stdout"
        },
        {
          "output_type": "execute_result",
          "data": {
            "text/plain": [
              "<keras.callbacks.History at 0x7fefa40d5630>"
            ]
          },
          "metadata": {
            "tags": []
          },
          "execution_count": 18
        }
      ]
    },
    {
      "metadata": {
        "id": "3gmb6neJgTo9",
        "colab_type": "code",
        "colab": {}
      },
      "cell_type": "code",
      "source": [
        "model.save('my_model.h5')"
      ],
      "execution_count": 0,
      "outputs": []
    },
    {
      "metadata": {
        "id": "ZJHFncfTFIDF",
        "colab_type": "code",
        "colab": {
          "base_uri": "https://localhost:8080/",
          "height": 51
        },
        "outputId": "c335cc6b-14f7-4259-e3e0-6fda41960788"
      },
      "cell_type": "code",
      "source": [
        "score = model.evaluate_generator(test_generator)\n",
        "print('\\n', 'Test accuracy:', score[1])"
      ],
      "execution_count": 31,
      "outputs": [
        {
          "output_type": "stream",
          "text": [
            "\n",
            " Test accuracy: 0.453525\n"
          ],
          "name": "stdout"
        }
      ]
    },
    {
      "metadata": {
        "id": "weqBW-AUL5ep",
        "colab_type": "code",
        "colab": {
          "base_uri": "https://localhost:8080/",
          "height": 136
        },
        "outputId": "07077459-8d9e-464e-fa61-5f3caa063548"
      },
      "cell_type": "code",
      "source": [
        "glob.glob('/content/*')"
      ],
      "execution_count": 22,
      "outputs": [
        {
          "output_type": "execute_result",
          "data": {
            "text/plain": [
              "['/content/datalab',\n",
              " '/content/val',\n",
              " '/content/train',\n",
              " '/content/model.weights.best.hdf5',\n",
              " '/content/my_model.h5',\n",
              " '/content/downloads',\n",
              " '/content/test']"
            ]
          },
          "metadata": {
            "tags": []
          },
          "execution_count": 22
        }
      ]
    },
    {
      "metadata": {
        "id": "sLG1jCI1iieR",
        "colab_type": "code",
        "colab": {}
      },
      "cell_type": "code",
      "source": [
        "#NAO FUNCIONA\n",
        "from google.colab import files\n",
        "\n",
        "files.download('/content/my_model.h5')"
      ],
      "execution_count": 0,
      "outputs": []
    },
    {
      "metadata": {
        "id": "1zFMQi6aQnVI",
        "colab_type": "text"
      },
      "cell_type": "markdown",
      "source": [
        "o Google Colab não permite realizar download direto de grandes estruturas de dados, então para contornar o problema, eu salvei os pesos da rede neural no meu repositório do Google Drive"
      ]
    },
    {
      "metadata": {
        "id": "5or5mXeQQBla",
        "colab_type": "code",
        "colab": {
          "base_uri": "https://localhost:8080/",
          "height": 34
        },
        "outputId": "fbb11cd6-2ecf-4dbc-fd02-7408cbf4490e"
      },
      "cell_type": "code",
      "source": [
        "# Install the PyDrive wrapper & import libraries.\n",
        "# This only needs to be done once in a notebook.\n",
        "!pip install -U -q PyDrive\n",
        "from pydrive.auth import GoogleAuth\n",
        "from pydrive.drive import GoogleDrive\n",
        "from google.colab import auth\n",
        "from oauth2client.client import GoogleCredentials\n",
        "\n",
        "# Authenticate and create the PyDrive client.\n",
        "# This only needs to be done once in a notebook.\n",
        "auth.authenticate_user()\n",
        "gauth = GoogleAuth()\n",
        "gauth.credentials = GoogleCredentials.get_application_default()\n",
        "drive = GoogleDrive(gauth)\n",
        "\n",
        "# Create & upload a file.\n",
        "uploaded = drive.CreateFile({'title': 'my_model.h5'})\n",
        "uploaded.SetContentFile('/content/my_model.h5')\n",
        "uploaded.Upload()\n",
        "print('Uploaded file with ID {}'.format(uploaded.get('id')))"
      ],
      "execution_count": 25,
      "outputs": [
        {
          "output_type": "stream",
          "text": [
            "Uploaded file with ID 1oL4PkRvNf_YRcQhdsbDRPpDPzsuI6s6p\n"
          ],
          "name": "stdout"
        }
      ]
    }
  ]
}